{
 "cells": [
  {
   "cell_type": "code",
   "execution_count": 2,
   "id": "02f00a5c-a0b7-47b9-8fd9-6cafd79d443b",
   "metadata": {},
   "outputs": [
    {
     "name": "stdout",
     "output_type": "stream",
     "text": [
      "Requirement already satisfied: torch in c:\\users\\jiaxing yan\\.conda\\envs\\gpuenv\\lib\\site-packages (2.2.2+cu121)\n",
      "Requirement already satisfied: filelock in c:\\users\\jiaxing yan\\.conda\\envs\\gpuenv\\lib\\site-packages (from torch) (3.9.0)\n",
      "Requirement already satisfied: typing-extensions>=4.8.0 in c:\\users\\jiaxing yan\\.conda\\envs\\gpuenv\\lib\\site-packages (from torch) (4.9.0)\n",
      "Requirement already satisfied: sympy in c:\\users\\jiaxing yan\\.conda\\envs\\gpuenv\\lib\\site-packages (from torch) (1.12)\n",
      "Requirement already satisfied: networkx in c:\\users\\jiaxing yan\\.conda\\envs\\gpuenv\\lib\\site-packages (from torch) (3.1)\n",
      "Requirement already satisfied: jinja2 in c:\\users\\jiaxing yan\\.conda\\envs\\gpuenv\\lib\\site-packages (from torch) (3.1.3)\n",
      "Requirement already satisfied: fsspec in c:\\users\\jiaxing yan\\.conda\\envs\\gpuenv\\lib\\site-packages (from torch) (2024.3.1)\n",
      "Requirement already satisfied: MarkupSafe>=2.0 in c:\\users\\jiaxing yan\\.conda\\envs\\gpuenv\\lib\\site-packages (from jinja2->torch) (2.1.3)\n",
      "Requirement already satisfied: mpmath>=0.19 in c:\\users\\jiaxing yan\\.conda\\envs\\gpuenv\\lib\\site-packages (from sympy->torch) (1.3.0)\n",
      "Requirement already satisfied: tqdm in c:\\users\\jiaxing yan\\.conda\\envs\\gpuenv\\lib\\site-packages (4.66.2)\n",
      "Requirement already satisfied: colorama in c:\\users\\jiaxing yan\\.conda\\envs\\gpuenv\\lib\\site-packages (from tqdm) (0.4.6)\n"
     ]
    }
   ],
   "source": [
    "#libraries and packages\n",
    "!pip install torch\n",
    "!pip install tqdm\n",
    "import torch\n",
    "import pandas as pd\n",
    "from tqdm.notebook import tqdm"
   ]
  },
  {
   "cell_type": "code",
   "execution_count": 3,
   "id": "94b00bc7-aec6-4719-a59b-ea68227e0b39",
   "metadata": {},
   "outputs": [],
   "source": [
    "#load data\n",
    "df = pd.read_csv('uk_ru_2023_en_text_random_labeled_dataset_Labelled.csv', low_memory=False)"
   ]
  },
  {
   "cell_type": "code",
   "execution_count": 4,
   "id": "aae758f5-5c02-43cd-bba0-a68a71fd649c",
   "metadata": {},
   "outputs": [
    {
     "data": {
      "text/html": [
       "<div>\n",
       "<style scoped>\n",
       "    .dataframe tbody tr th:only-of-type {\n",
       "        vertical-align: middle;\n",
       "    }\n",
       "\n",
       "    .dataframe tbody tr th {\n",
       "        vertical-align: top;\n",
       "    }\n",
       "\n",
       "    .dataframe thead th {\n",
       "        text-align: right;\n",
       "    }\n",
       "</style>\n",
       "<table border=\"1\" class=\"dataframe\">\n",
       "  <thead>\n",
       "    <tr style=\"text-align: right;\">\n",
       "      <th></th>\n",
       "      <th>userid</th>\n",
       "      <th>tweetid</th>\n",
       "      <th>hashtags</th>\n",
       "      <th>processed_text</th>\n",
       "      <th>topic_label</th>\n",
       "      <th>topic_weight</th>\n",
       "      <th>sentiment</th>\n",
       "    </tr>\n",
       "  </thead>\n",
       "  <tbody>\n",
       "    <tr>\n",
       "      <th>0</th>\n",
       "      <td>5.467372e+07</td>\n",
       "      <td>1.630000e+18</td>\n",
       "      <td>SlavaUkraïni,JoeBiden</td>\n",
       "      <td>repdavid support</td>\n",
       "      <td>International Support and Public Opinion</td>\n",
       "      <td>0.389973</td>\n",
       "      <td>Positive</td>\n",
       "    </tr>\n",
       "    <tr>\n",
       "      <th>1</th>\n",
       "      <td>2.282984e+09</td>\n",
       "      <td>1.610000e+18</td>\n",
       "      <td>Canada,disabled,Vancouver,homeless</td>\n",
       "      <td>province editorial inequality hound population...</td>\n",
       "      <td>Strategic Military Aspects</td>\n",
       "      <td>0.464470</td>\n",
       "      <td>Irrelevant</td>\n",
       "    </tr>\n",
       "    <tr>\n",
       "      <th>2</th>\n",
       "      <td>2.830324e+08</td>\n",
       "      <td>1.640000e+18</td>\n",
       "      <td>ArmUkraineNow</td>\n",
       "      <td>went war russia invaded ukraine believed freed...</td>\n",
       "      <td>Strategic Military Aspects</td>\n",
       "      <td>0.613352</td>\n",
       "      <td>Positive</td>\n",
       "    </tr>\n",
       "    <tr>\n",
       "      <th>3</th>\n",
       "      <td>1.260000e+18</td>\n",
       "      <td>1.630000e+18</td>\n",
       "      <td>nowplaying,alexa,streema,Scotland,echo,global,...</td>\n",
       "      <td>mintwave radio mintdry</td>\n",
       "      <td>Military Actions and Operations</td>\n",
       "      <td>0.279435</td>\n",
       "      <td>Irrelevant</td>\n",
       "    </tr>\n",
       "    <tr>\n",
       "      <th>4</th>\n",
       "      <td>9.241172e+08</td>\n",
       "      <td>1.640000e+18</td>\n",
       "      <td>NATO,Russia,Kiev</td>\n",
       "      <td>military historian douglas macgregor crumble d...</td>\n",
       "      <td>Broad Overview of the Conflict</td>\n",
       "      <td>0.434376</td>\n",
       "      <td>Negative</td>\n",
       "    </tr>\n",
       "  </tbody>\n",
       "</table>\n",
       "</div>"
      ],
      "text/plain": [
       "         userid       tweetid  \\\n",
       "0  5.467372e+07  1.630000e+18   \n",
       "1  2.282984e+09  1.610000e+18   \n",
       "2  2.830324e+08  1.640000e+18   \n",
       "3  1.260000e+18  1.630000e+18   \n",
       "4  9.241172e+08  1.640000e+18   \n",
       "\n",
       "                                            hashtags  \\\n",
       "0                              SlavaUkraïni,JoeBiden   \n",
       "1                 Canada,disabled,Vancouver,homeless   \n",
       "2                                      ArmUkraineNow   \n",
       "3  nowplaying,alexa,streema,Scotland,echo,global,...   \n",
       "4                                   NATO,Russia,Kiev   \n",
       "\n",
       "                                      processed_text  \\\n",
       "0                                   repdavid support   \n",
       "1  province editorial inequality hound population...   \n",
       "2  went war russia invaded ukraine believed freed...   \n",
       "3                             mintwave radio mintdry   \n",
       "4  military historian douglas macgregor crumble d...   \n",
       "\n",
       "                                topic_label  topic_weight   sentiment  \n",
       "0  International Support and Public Opinion      0.389973    Positive  \n",
       "1                Strategic Military Aspects      0.464470  Irrelevant  \n",
       "2                Strategic Military Aspects      0.613352    Positive  \n",
       "3           Military Actions and Operations      0.279435  Irrelevant  \n",
       "4            Broad Overview of the Conflict      0.434376    Negative  "
      ]
     },
     "execution_count": 4,
     "metadata": {},
     "output_type": "execute_result"
    }
   ],
   "source": [
    "df.head()"
   ]
  },
  {
   "cell_type": "code",
   "execution_count": 5,
   "id": "48fc0c26-b8c5-4bc5-b7bd-e38b44bfec91",
   "metadata": {},
   "outputs": [
    {
     "name": "stdout",
     "output_type": "stream",
     "text": [
      "<class 'pandas.core.frame.DataFrame'>\n",
      "RangeIndex: 494540 entries, 0 to 494539\n",
      "Data columns (total 7 columns):\n",
      " #   Column          Non-Null Count   Dtype  \n",
      "---  ------          --------------   -----  \n",
      " 0   userid          494540 non-null  float64\n",
      " 1   tweetid         494540 non-null  float64\n",
      " 2   hashtags        492068 non-null  object \n",
      " 3   processed_text  494162 non-null  object \n",
      " 4   topic_label     494540 non-null  object \n",
      " 5   topic_weight    494540 non-null  float64\n",
      " 6   sentiment       494540 non-null  object \n",
      "dtypes: float64(3), object(4)\n",
      "memory usage: 26.4+ MB\n"
     ]
    }
   ],
   "source": [
    "df.info()"
   ]
  },
  {
   "cell_type": "code",
   "execution_count": 6,
   "id": "44f47170-aff2-47ae-9d51-8d30a9797556",
   "metadata": {},
   "outputs": [
    {
     "data": {
      "text/plain": [
       "userid               0\n",
       "tweetid              0\n",
       "hashtags          2472\n",
       "processed_text     378\n",
       "topic_label          0\n",
       "topic_weight         0\n",
       "sentiment            0\n",
       "dtype: int64"
      ]
     },
     "execution_count": 6,
     "metadata": {},
     "output_type": "execute_result"
    }
   ],
   "source": [
    "df.isnull().sum()"
   ]
  },
  {
   "cell_type": "code",
   "execution_count": 7,
   "id": "888df8c5-07ab-45e2-b5ab-5228591aa9c0",
   "metadata": {},
   "outputs": [
    {
     "data": {
      "text/plain": [
       "sentiment\n",
       "nocode        489540\n",
       "Negative        1448\n",
       "Neutral         1428\n",
       "Irrelevant      1267\n",
       "Positive         857\n",
       "Name: count, dtype: int64"
      ]
     },
     "execution_count": 7,
     "metadata": {},
     "output_type": "execute_result"
    }
   ],
   "source": [
    "df.sentiment.value_counts()"
   ]
  },
  {
   "cell_type": "code",
   "execution_count": 8,
   "id": "0586b7da-dd46-47e2-90d9-0ab0d0d72999",
   "metadata": {},
   "outputs": [],
   "source": [
    "df = df[df.sentiment != 'nocode']"
   ]
  },
  {
   "cell_type": "code",
   "execution_count": 9,
   "id": "3e4077be-355e-4643-9346-7aa271b8f802",
   "metadata": {},
   "outputs": [
    {
     "data": {
      "text/plain": [
       "sentiment\n",
       "Negative      1448\n",
       "Neutral       1428\n",
       "Irrelevant    1267\n",
       "Positive       857\n",
       "Name: count, dtype: int64"
      ]
     },
     "execution_count": 9,
     "metadata": {},
     "output_type": "execute_result"
    }
   ],
   "source": [
    "df.sentiment.value_counts()"
   ]
  },
  {
   "cell_type": "code",
   "execution_count": 10,
   "id": "f5af969d-cf1d-491a-89c1-f3f27d13f148",
   "metadata": {},
   "outputs": [
    {
     "name": "stdout",
     "output_type": "stream",
     "text": [
      "Requirement already satisfied: seaborn in c:\\users\\jiaxing yan\\.conda\\envs\\gpuenv\\lib\\site-packages (0.13.2)\n",
      "Requirement already satisfied: numpy!=1.24.0,>=1.20 in c:\\users\\jiaxing yan\\.conda\\envs\\gpuenv\\lib\\site-packages (from seaborn) (1.26.4)\n",
      "Requirement already satisfied: pandas>=1.2 in c:\\users\\jiaxing yan\\.conda\\envs\\gpuenv\\lib\\site-packages (from seaborn) (2.1.4)\n",
      "Requirement already satisfied: matplotlib!=3.6.1,>=3.4 in c:\\users\\jiaxing yan\\.conda\\envs\\gpuenv\\lib\\site-packages (from seaborn) (3.8.0)\n",
      "Requirement already satisfied: contourpy>=1.0.1 in c:\\users\\jiaxing yan\\.conda\\envs\\gpuenv\\lib\\site-packages (from matplotlib!=3.6.1,>=3.4->seaborn) (1.2.0)\n",
      "Requirement already satisfied: cycler>=0.10 in c:\\users\\jiaxing yan\\.conda\\envs\\gpuenv\\lib\\site-packages (from matplotlib!=3.6.1,>=3.4->seaborn) (0.11.0)\n",
      "Requirement already satisfied: fonttools>=4.22.0 in c:\\users\\jiaxing yan\\.conda\\envs\\gpuenv\\lib\\site-packages (from matplotlib!=3.6.1,>=3.4->seaborn) (4.25.0)\n",
      "Requirement already satisfied: kiwisolver>=1.0.1 in c:\\users\\jiaxing yan\\.conda\\envs\\gpuenv\\lib\\site-packages (from matplotlib!=3.6.1,>=3.4->seaborn) (1.4.4)\n",
      "Requirement already satisfied: packaging>=20.0 in c:\\users\\jiaxing yan\\.conda\\envs\\gpuenv\\lib\\site-packages (from matplotlib!=3.6.1,>=3.4->seaborn) (23.1)\n",
      "Requirement already satisfied: pillow>=6.2.0 in c:\\users\\jiaxing yan\\.conda\\envs\\gpuenv\\lib\\site-packages (from matplotlib!=3.6.1,>=3.4->seaborn) (10.2.0)\n",
      "Requirement already satisfied: pyparsing>=2.3.1 in c:\\users\\jiaxing yan\\.conda\\envs\\gpuenv\\lib\\site-packages (from matplotlib!=3.6.1,>=3.4->seaborn) (3.0.9)\n",
      "Requirement already satisfied: python-dateutil>=2.7 in c:\\users\\jiaxing yan\\.conda\\envs\\gpuenv\\lib\\site-packages (from matplotlib!=3.6.1,>=3.4->seaborn) (2.8.2)\n",
      "Requirement already satisfied: pytz>=2020.1 in c:\\users\\jiaxing yan\\.conda\\envs\\gpuenv\\lib\\site-packages (from pandas>=1.2->seaborn) (2023.3.post1)\n",
      "Requirement already satisfied: tzdata>=2022.1 in c:\\users\\jiaxing yan\\.conda\\envs\\gpuenv\\lib\\site-packages (from pandas>=1.2->seaborn) (2023.3)\n",
      "Requirement already satisfied: six>=1.5 in c:\\users\\jiaxing yan\\.conda\\envs\\gpuenv\\lib\\site-packages (from python-dateutil>=2.7->matplotlib!=3.6.1,>=3.4->seaborn) (1.16.0)\n"
     ]
    }
   ],
   "source": [
    "import matplotlib.pyplot as plt\n",
    "!pip install seaborn\n",
    "import seaborn as sns"
   ]
  },
  {
   "cell_type": "code",
   "execution_count": 11,
   "id": "4cb14d8a-a09a-4876-bc1a-4adca3a0eda1",
   "metadata": {},
   "outputs": [
    {
     "data": {
      "text/plain": [
       "<seaborn.axisgrid.FacetGrid at 0x1b080a2ff80>"
      ]
     },
     "execution_count": 11,
     "metadata": {},
     "output_type": "execute_result"
    },
    {
     "data": {
      "text/plain": [
       "<Figure size 1000x500 with 0 Axes>"
      ]
     },
     "metadata": {},
     "output_type": "display_data"
    },
    {
     "data": {
      "image/png": "[encoded data removed]",
      "text/plain": [
       "<Figure size 511.111x500 with 1 Axes>"
      ]
     },
     "metadata": {},
     "output_type": "display_data"
    }
   ],
   "source": [
    "plt.figure(figsize=(10, 5))\n",
    "sns.catplot(x='sentiment', kind='count', data=df) "
   ]
  },
  {
   "cell_type": "code",
   "execution_count": 12,
   "id": "3a954f2b-5853-471d-ac38-9a919f9f4e5f",
   "metadata": {},
   "outputs": [
    {
     "data": {
      "text/plain": [
       "array(['Positive', 'Irrelevant', 'Negative', 'Neutral'], dtype=object)"
      ]
     },
     "execution_count": 12,
     "metadata": {},
     "output_type": "execute_result"
    }
   ],
   "source": [
    "possible_labels = df.sentiment.unique()\n",
    "possible_labels"
   ]
  },
  {
   "cell_type": "code",
   "execution_count": 13,
   "id": "47230b43-b4df-4ff6-8746-a821b57adf12",
   "metadata": {},
   "outputs": [],
   "source": [
    "label_dict = {}\n",
    "for index, possible_label in enumerate(possible_labels):\n",
    "    label_dict[possible_label] = index"
   ]
  },
  {
   "cell_type": "code",
   "execution_count": 14,
   "id": "f435a9ec-de88-4d84-bb16-310c0f41ba72",
   "metadata": {},
   "outputs": [
    {
     "data": {
      "text/plain": [
       "{'Positive': 0, 'Irrelevant': 1, 'Negative': 2, 'Neutral': 3}"
      ]
     },
     "execution_count": 14,
     "metadata": {},
     "output_type": "execute_result"
    }
   ],
   "source": [
    "label_dict"
   ]
  },
  {
   "cell_type": "code",
   "execution_count": 15,
   "id": "f25cb948-e7f0-44ac-9829-89a77c18252f",
   "metadata": {},
   "outputs": [
    {
     "data": {
      "text/html": [
       "<div>\n",
       "<style scoped>\n",
       "    .dataframe tbody tr th:only-of-type {\n",
       "        vertical-align: middle;\n",
       "    }\n",
       "\n",
       "    .dataframe tbody tr th {\n",
       "        vertical-align: top;\n",
       "    }\n",
       "\n",
       "    .dataframe thead th {\n",
       "        text-align: right;\n",
       "    }\n",
       "</style>\n",
       "<table border=\"1\" class=\"dataframe\">\n",
       "  <thead>\n",
       "    <tr style=\"text-align: right;\">\n",
       "      <th></th>\n",
       "      <th>userid</th>\n",
       "      <th>tweetid</th>\n",
       "      <th>hashtags</th>\n",
       "      <th>processed_text</th>\n",
       "      <th>topic_label</th>\n",
       "      <th>topic_weight</th>\n",
       "      <th>sentiment</th>\n",
       "      <th>label</th>\n",
       "    </tr>\n",
       "  </thead>\n",
       "  <tbody>\n",
       "    <tr>\n",
       "      <th>0</th>\n",
       "      <td>5.467372e+07</td>\n",
       "      <td>1.630000e+18</td>\n",
       "      <td>SlavaUkraïni,JoeBiden</td>\n",
       "      <td>repdavid support</td>\n",
       "      <td>International Support and Public Opinion</td>\n",
       "      <td>0.389973</td>\n",
       "      <td>Positive</td>\n",
       "      <td>0</td>\n",
       "    </tr>\n",
       "    <tr>\n",
       "      <th>1</th>\n",
       "      <td>2.282984e+09</td>\n",
       "      <td>1.610000e+18</td>\n",
       "      <td>Canada,disabled,Vancouver,homeless</td>\n",
       "      <td>province editorial inequality hound population...</td>\n",
       "      <td>Strategic Military Aspects</td>\n",
       "      <td>0.464470</td>\n",
       "      <td>Irrelevant</td>\n",
       "      <td>1</td>\n",
       "    </tr>\n",
       "    <tr>\n",
       "      <th>2</th>\n",
       "      <td>2.830324e+08</td>\n",
       "      <td>1.640000e+18</td>\n",
       "      <td>ArmUkraineNow</td>\n",
       "      <td>went war russia invaded ukraine believed freed...</td>\n",
       "      <td>Strategic Military Aspects</td>\n",
       "      <td>0.613352</td>\n",
       "      <td>Positive</td>\n",
       "      <td>0</td>\n",
       "    </tr>\n",
       "    <tr>\n",
       "      <th>3</th>\n",
       "      <td>1.260000e+18</td>\n",
       "      <td>1.630000e+18</td>\n",
       "      <td>nowplaying,alexa,streema,Scotland,echo,global,...</td>\n",
       "      <td>mintwave radio mintdry</td>\n",
       "      <td>Military Actions and Operations</td>\n",
       "      <td>0.279435</td>\n",
       "      <td>Irrelevant</td>\n",
       "      <td>1</td>\n",
       "    </tr>\n",
       "    <tr>\n",
       "      <th>4</th>\n",
       "      <td>9.241172e+08</td>\n",
       "      <td>1.640000e+18</td>\n",
       "      <td>NATO,Russia,Kiev</td>\n",
       "      <td>military historian douglas macgregor crumble d...</td>\n",
       "      <td>Broad Overview of the Conflict</td>\n",
       "      <td>0.434376</td>\n",
       "      <td>Negative</td>\n",
       "      <td>2</td>\n",
       "    </tr>\n",
       "    <tr>\n",
       "      <th>5</th>\n",
       "      <td>9.019142e+06</td>\n",
       "      <td>1.610000e+18</td>\n",
       "      <td>news,canada,handsanitizer,Sask,saskatchewan,sk...</td>\n",
       "      <td>sask washing hand pallet expired hand sanitizer</td>\n",
       "      <td>Civilian Support and Information Sharing</td>\n",
       "      <td>0.279660</td>\n",
       "      <td>Irrelevant</td>\n",
       "      <td>1</td>\n",
       "    </tr>\n",
       "    <tr>\n",
       "      <th>6</th>\n",
       "      <td>1.510000e+18</td>\n",
       "      <td>1.620000e+18</td>\n",
       "      <td>Nazi,RussiaIsATerroristState</td>\n",
       "      <td>bggestman protossstan marcova beatkoine dimkq ...</td>\n",
       "      <td>International Support and Public Opinion</td>\n",
       "      <td>0.449647</td>\n",
       "      <td>Negative</td>\n",
       "      <td>2</td>\n",
       "    </tr>\n",
       "    <tr>\n",
       "      <th>7</th>\n",
       "      <td>7.720000e+17</td>\n",
       "      <td>1.650000e+18</td>\n",
       "      <td>RussiaIsANaziState,RussiaInvadedUkraine,Russia...</td>\n",
       "      <td>today satan hard</td>\n",
       "      <td>Broad Overview of the Conflict</td>\n",
       "      <td>0.337738</td>\n",
       "      <td>Negative</td>\n",
       "      <td>2</td>\n",
       "    </tr>\n",
       "    <tr>\n",
       "      <th>8</th>\n",
       "      <td>1.062505e+08</td>\n",
       "      <td>1.650000e+18</td>\n",
       "      <td>Ukraine,Anonymous,OpRussia,UkraineRussiaWar️,R...</td>\n",
       "      <td>elon musk jump viral tweet tagged notification...</td>\n",
       "      <td>Broad Overview of the Conflict</td>\n",
       "      <td>0.606890</td>\n",
       "      <td>Neutral</td>\n",
       "      <td>3</td>\n",
       "    </tr>\n",
       "    <tr>\n",
       "      <th>9</th>\n",
       "      <td>8.716686e+08</td>\n",
       "      <td>1.650000e+18</td>\n",
       "      <td>FreeKaraMurza,Russian,Putin,Ukraine</td>\n",
       "      <td>fixed unfair trail leading political oppositio...</td>\n",
       "      <td>International Support and Public Opinion</td>\n",
       "      <td>0.559300</td>\n",
       "      <td>Positive</td>\n",
       "      <td>0</td>\n",
       "    </tr>\n",
       "  </tbody>\n",
       "</table>\n",
       "</div>"
      ],
      "text/plain": [
       "         userid       tweetid  \\\n",
       "0  5.467372e+07  1.630000e+18   \n",
       "1  2.282984e+09  1.610000e+18   \n",
       "2  2.830324e+08  1.640000e+18   \n",
       "3  1.260000e+18  1.630000e+18   \n",
       "4  9.241172e+08  1.640000e+18   \n",
       "5  9.019142e+06  1.610000e+18   \n",
       "6  1.510000e+18  1.620000e+18   \n",
       "7  7.720000e+17  1.650000e+18   \n",
       "8  1.062505e+08  1.650000e+18   \n",
       "9  8.716686e+08  1.650000e+18   \n",
       "\n",
       "                                            hashtags  \\\n",
       "0                              SlavaUkraïni,JoeBiden   \n",
       "1                 Canada,disabled,Vancouver,homeless   \n",
       "2                                      ArmUkraineNow   \n",
       "3  nowplaying,alexa,streema,Scotland,echo,global,...   \n",
       "4                                   NATO,Russia,Kiev   \n",
       "5  news,canada,handsanitizer,Sask,saskatchewan,sk...   \n",
       "6                       Nazi,RussiaIsATerroristState   \n",
       "7  RussiaIsANaziState,RussiaInvadedUkraine,Russia...   \n",
       "8  Ukraine,Anonymous,OpRussia,UkraineRussiaWar️,R...   \n",
       "9                FreeKaraMurza,Russian,Putin,Ukraine   \n",
       "\n",
       "                                      processed_text  \\\n",
       "0                                   repdavid support   \n",
       "1  province editorial inequality hound population...   \n",
       "2  went war russia invaded ukraine believed freed...   \n",
       "3                             mintwave radio mintdry   \n",
       "4  military historian douglas macgregor crumble d...   \n",
       "5    sask washing hand pallet expired hand sanitizer   \n",
       "6  bggestman protossstan marcova beatkoine dimkq ...   \n",
       "7                                   today satan hard   \n",
       "8  elon musk jump viral tweet tagged notification...   \n",
       "9  fixed unfair trail leading political oppositio...   \n",
       "\n",
       "                                topic_label  topic_weight   sentiment  label  \n",
       "0  International Support and Public Opinion      0.389973    Positive      0  \n",
       "1                Strategic Military Aspects      0.464470  Irrelevant      1  \n",
       "2                Strategic Military Aspects      0.613352    Positive      0  \n",
       "3           Military Actions and Operations      0.279435  Irrelevant      1  \n",
       "4            Broad Overview of the Conflict      0.434376    Negative      2  \n",
       "5  Civilian Support and Information Sharing      0.279660  Irrelevant      1  \n",
       "6  International Support and Public Opinion      0.449647    Negative      2  \n",
       "7            Broad Overview of the Conflict      0.337738    Negative      2  \n",
       "8            Broad Overview of the Conflict      0.606890     Neutral      3  \n",
       "9  International Support and Public Opinion      0.559300    Positive      0  "
      ]
     },
     "execution_count": 15,
     "metadata": {},
     "output_type": "execute_result"
    }
   ],
   "source": [
    "df['label'] = df.sentiment.replace(label_dict)\n",
    "df.head(10)"
   ]
  },
  {
   "cell_type": "code",
   "execution_count": 16,
   "id": "9187d65c-6366-49ce-a048-33b74c430782",
   "metadata": {},
   "outputs": [
    {
     "data": {
      "text/plain": [
       "<Axes: ylabel='Count'>"
      ]
     },
     "execution_count": 16,
     "metadata": {},
     "output_type": "execute_result"
    },
    {
     "data": {
      "image/png": "[encoded data removed]",
      "text/plain": [
       "<Figure size 640x480 with 1 Axes>"
      ]
     },
     "metadata": {},
     "output_type": "display_data"
    }
   ],
   "source": [
    "df['processed_text'] = df['processed_text'].astype(str)\n",
    "lengths = [len(s) for s in df.processed_text]\n",
    "sns.histplot(lengths, bins=100) "
   ]
  },
  {
   "cell_type": "code",
   "execution_count": 17,
   "id": "068c53bc-0d99-4030-bc0b-53c0ccdef6b5",
   "metadata": {},
   "outputs": [
    {
     "name": "stdout",
     "output_type": "stream",
     "text": [
      "Max length:  291\n"
     ]
    }
   ],
   "source": [
    "max_len = max(lengths)\n",
    "print('Max length: ', max_len)"
   ]
  },
  {
   "cell_type": "code",
   "execution_count": 18,
   "id": "5894ea81-b072-4a08-a0ea-882585a36766",
   "metadata": {},
   "outputs": [],
   "source": [
    "from sklearn.model_selection import train_test_split\n",
    "X_train, X_val, y_train, y_val = train_test_split(df.index.values, \n",
    "                                                   df.label.values,\n",
    "                                                   test_size = 0.15,\n",
    "                                                   random_state = 17,\n",
    "                                                   stratify = df.label.values)"
   ]
  },
  {
   "cell_type": "code",
   "execution_count": 19,
   "id": "5b1ba3e3-9f1d-4b3a-b02d-ec583311dc05",
   "metadata": {},
   "outputs": [
    {
     "data": {
      "text/html": [
       "<div>\n",
       "<style scoped>\n",
       "    .dataframe tbody tr th:only-of-type {\n",
       "        vertical-align: middle;\n",
       "    }\n",
       "\n",
       "    .dataframe tbody tr th {\n",
       "        vertical-align: top;\n",
       "    }\n",
       "\n",
       "    .dataframe thead th {\n",
       "        text-align: right;\n",
       "    }\n",
       "</style>\n",
       "<table border=\"1\" class=\"dataframe\">\n",
       "  <thead>\n",
       "    <tr style=\"text-align: right;\">\n",
       "      <th></th>\n",
       "      <th>userid</th>\n",
       "      <th>tweetid</th>\n",
       "      <th>hashtags</th>\n",
       "      <th>processed_text</th>\n",
       "      <th>topic_label</th>\n",
       "      <th>topic_weight</th>\n",
       "      <th>sentiment</th>\n",
       "      <th>label</th>\n",
       "      <th>data_type</th>\n",
       "    </tr>\n",
       "  </thead>\n",
       "  <tbody>\n",
       "    <tr>\n",
       "      <th>0</th>\n",
       "      <td>5.467372e+07</td>\n",
       "      <td>1.630000e+18</td>\n",
       "      <td>SlavaUkraïni,JoeBiden</td>\n",
       "      <td>repdavid support</td>\n",
       "      <td>International Support and Public Opinion</td>\n",
       "      <td>0.389973</td>\n",
       "      <td>Positive</td>\n",
       "      <td>0</td>\n",
       "      <td>not_set</td>\n",
       "    </tr>\n",
       "    <tr>\n",
       "      <th>1</th>\n",
       "      <td>2.282984e+09</td>\n",
       "      <td>1.610000e+18</td>\n",
       "      <td>Canada,disabled,Vancouver,homeless</td>\n",
       "      <td>province editorial inequality hound population...</td>\n",
       "      <td>Strategic Military Aspects</td>\n",
       "      <td>0.464470</td>\n",
       "      <td>Irrelevant</td>\n",
       "      <td>1</td>\n",
       "      <td>not_set</td>\n",
       "    </tr>\n",
       "    <tr>\n",
       "      <th>2</th>\n",
       "      <td>2.830324e+08</td>\n",
       "      <td>1.640000e+18</td>\n",
       "      <td>ArmUkraineNow</td>\n",
       "      <td>went war russia invaded ukraine believed freed...</td>\n",
       "      <td>Strategic Military Aspects</td>\n",
       "      <td>0.613352</td>\n",
       "      <td>Positive</td>\n",
       "      <td>0</td>\n",
       "      <td>not_set</td>\n",
       "    </tr>\n",
       "    <tr>\n",
       "      <th>3</th>\n",
       "      <td>1.260000e+18</td>\n",
       "      <td>1.630000e+18</td>\n",
       "      <td>nowplaying,alexa,streema,Scotland,echo,global,...</td>\n",
       "      <td>mintwave radio mintdry</td>\n",
       "      <td>Military Actions and Operations</td>\n",
       "      <td>0.279435</td>\n",
       "      <td>Irrelevant</td>\n",
       "      <td>1</td>\n",
       "      <td>not_set</td>\n",
       "    </tr>\n",
       "    <tr>\n",
       "      <th>4</th>\n",
       "      <td>9.241172e+08</td>\n",
       "      <td>1.640000e+18</td>\n",
       "      <td>NATO,Russia,Kiev</td>\n",
       "      <td>military historian douglas macgregor crumble d...</td>\n",
       "      <td>Broad Overview of the Conflict</td>\n",
       "      <td>0.434376</td>\n",
       "      <td>Negative</td>\n",
       "      <td>2</td>\n",
       "      <td>not_set</td>\n",
       "    </tr>\n",
       "  </tbody>\n",
       "</table>\n",
       "</div>"
      ],
      "text/plain": [
       "         userid       tweetid  \\\n",
       "0  5.467372e+07  1.630000e+18   \n",
       "1  2.282984e+09  1.610000e+18   \n",
       "2  2.830324e+08  1.640000e+18   \n",
       "3  1.260000e+18  1.630000e+18   \n",
       "4  9.241172e+08  1.640000e+18   \n",
       "\n",
       "                                            hashtags  \\\n",
       "0                              SlavaUkraïni,JoeBiden   \n",
       "1                 Canada,disabled,Vancouver,homeless   \n",
       "2                                      ArmUkraineNow   \n",
       "3  nowplaying,alexa,streema,Scotland,echo,global,...   \n",
       "4                                   NATO,Russia,Kiev   \n",
       "\n",
       "                                      processed_text  \\\n",
       "0                                   repdavid support   \n",
       "1  province editorial inequality hound population...   \n",
       "2  went war russia invaded ukraine believed freed...   \n",
       "3                             mintwave radio mintdry   \n",
       "4  military historian douglas macgregor crumble d...   \n",
       "\n",
       "                                topic_label  topic_weight   sentiment  label  \\\n",
       "0  International Support and Public Opinion      0.389973    Positive      0   \n",
       "1                Strategic Military Aspects      0.464470  Irrelevant      1   \n",
       "2                Strategic Military Aspects      0.613352    Positive      0   \n",
       "3           Military Actions and Operations      0.279435  Irrelevant      1   \n",
       "4            Broad Overview of the Conflict      0.434376    Negative      2   \n",
       "\n",
       "  data_type  \n",
       "0   not_set  \n",
       "1   not_set  \n",
       "2   not_set  \n",
       "3   not_set  \n",
       "4   not_set  "
      ]
     },
     "execution_count": 19,
     "metadata": {},
     "output_type": "execute_result"
    }
   ],
   "source": [
    "df['data_type'] = ['not_set'] * df.shape[0]\n",
    "df.head()"
   ]
  },
  {
   "cell_type": "code",
   "execution_count": 20,
   "id": "9a3f5c2b-d851-4e17-8d75-645a171e6a2d",
   "metadata": {},
   "outputs": [],
   "source": [
    "df.loc[X_train, 'data_type'] = 'train'\n",
    "df.loc[X_val, 'data_type'] = 'val'"
   ]
  },
  {
   "cell_type": "code",
   "execution_count": 21,
   "id": "021aab80-13f3-4ef2-bcaf-d777e4fc7669",
   "metadata": {},
   "outputs": [
    {
     "data": {
      "text/html": [
       "<div>\n",
       "<style scoped>\n",
       "    .dataframe tbody tr th:only-of-type {\n",
       "        vertical-align: middle;\n",
       "    }\n",
       "\n",
       "    .dataframe tbody tr th {\n",
       "        vertical-align: top;\n",
       "    }\n",
       "\n",
       "    .dataframe thead th {\n",
       "        text-align: right;\n",
       "    }\n",
       "</style>\n",
       "<table border=\"1\" class=\"dataframe\">\n",
       "  <thead>\n",
       "    <tr style=\"text-align: right;\">\n",
       "      <th></th>\n",
       "      <th></th>\n",
       "      <th></th>\n",
       "      <th>userid</th>\n",
       "      <th>tweetid</th>\n",
       "      <th>hashtags</th>\n",
       "      <th>processed_text</th>\n",
       "      <th>topic_label</th>\n",
       "      <th>topic_weight</th>\n",
       "    </tr>\n",
       "    <tr>\n",
       "      <th>sentiment</th>\n",
       "      <th>label</th>\n",
       "      <th>data_type</th>\n",
       "      <th></th>\n",
       "      <th></th>\n",
       "      <th></th>\n",
       "      <th></th>\n",
       "      <th></th>\n",
       "      <th></th>\n",
       "    </tr>\n",
       "  </thead>\n",
       "  <tbody>\n",
       "    <tr>\n",
       "      <th rowspan=\"2\" valign=\"top\">Irrelevant</th>\n",
       "      <th rowspan=\"2\" valign=\"top\">1</th>\n",
       "      <th>train</th>\n",
       "      <td>1077</td>\n",
       "      <td>1077</td>\n",
       "      <td>1065</td>\n",
       "      <td>1077</td>\n",
       "      <td>1077</td>\n",
       "      <td>1077</td>\n",
       "    </tr>\n",
       "    <tr>\n",
       "      <th>val</th>\n",
       "      <td>190</td>\n",
       "      <td>190</td>\n",
       "      <td>188</td>\n",
       "      <td>190</td>\n",
       "      <td>190</td>\n",
       "      <td>190</td>\n",
       "    </tr>\n",
       "    <tr>\n",
       "      <th rowspan=\"2\" valign=\"top\">Negative</th>\n",
       "      <th rowspan=\"2\" valign=\"top\">2</th>\n",
       "      <th>train</th>\n",
       "      <td>1231</td>\n",
       "      <td>1231</td>\n",
       "      <td>1226</td>\n",
       "      <td>1231</td>\n",
       "      <td>1231</td>\n",
       "      <td>1231</td>\n",
       "    </tr>\n",
       "    <tr>\n",
       "      <th>val</th>\n",
       "      <td>217</td>\n",
       "      <td>217</td>\n",
       "      <td>216</td>\n",
       "      <td>217</td>\n",
       "      <td>217</td>\n",
       "      <td>217</td>\n",
       "    </tr>\n",
       "    <tr>\n",
       "      <th rowspan=\"2\" valign=\"top\">Neutral</th>\n",
       "      <th rowspan=\"2\" valign=\"top\">3</th>\n",
       "      <th>train</th>\n",
       "      <td>1214</td>\n",
       "      <td>1214</td>\n",
       "      <td>1211</td>\n",
       "      <td>1214</td>\n",
       "      <td>1214</td>\n",
       "      <td>1214</td>\n",
       "    </tr>\n",
       "    <tr>\n",
       "      <th>val</th>\n",
       "      <td>214</td>\n",
       "      <td>214</td>\n",
       "      <td>214</td>\n",
       "      <td>214</td>\n",
       "      <td>214</td>\n",
       "      <td>214</td>\n",
       "    </tr>\n",
       "    <tr>\n",
       "      <th rowspan=\"2\" valign=\"top\">Positive</th>\n",
       "      <th rowspan=\"2\" valign=\"top\">0</th>\n",
       "      <th>train</th>\n",
       "      <td>728</td>\n",
       "      <td>728</td>\n",
       "      <td>726</td>\n",
       "      <td>728</td>\n",
       "      <td>728</td>\n",
       "      <td>728</td>\n",
       "    </tr>\n",
       "    <tr>\n",
       "      <th>val</th>\n",
       "      <td>129</td>\n",
       "      <td>129</td>\n",
       "      <td>129</td>\n",
       "      <td>129</td>\n",
       "      <td>129</td>\n",
       "      <td>129</td>\n",
       "    </tr>\n",
       "  </tbody>\n",
       "</table>\n",
       "</div>"
      ],
      "text/plain": [
       "                            userid  tweetid  hashtags  processed_text  \\\n",
       "sentiment  label data_type                                              \n",
       "Irrelevant 1     train        1077     1077      1065            1077   \n",
       "                 val           190      190       188             190   \n",
       "Negative   2     train        1231     1231      1226            1231   \n",
       "                 val           217      217       216             217   \n",
       "Neutral    3     train        1214     1214      1211            1214   \n",
       "                 val           214      214       214             214   \n",
       "Positive   0     train         728      728       726             728   \n",
       "                 val           129      129       129             129   \n",
       "\n",
       "                            topic_label  topic_weight  \n",
       "sentiment  label data_type                             \n",
       "Irrelevant 1     train             1077          1077  \n",
       "                 val                190           190  \n",
       "Negative   2     train             1231          1231  \n",
       "                 val                217           217  \n",
       "Neutral    3     train             1214          1214  \n",
       "                 val                214           214  \n",
       "Positive   0     train              728           728  \n",
       "                 val                129           129  "
      ]
     },
     "execution_count": 21,
     "metadata": {},
     "output_type": "execute_result"
    }
   ],
   "source": [
    "df.groupby(['sentiment', 'label', 'data_type']).count()"
   ]
  },
  {
   "cell_type": "code",
   "execution_count": 22,
   "id": "2afe6034-3146-4da8-a93f-4639b668570f",
   "metadata": {},
   "outputs": [
    {
     "name": "stdout",
     "output_type": "stream",
     "text": [
      "Requirement already satisfied: transformers in c:\\users\\jiaxing yan\\.conda\\envs\\gpuenv\\lib\\site-packages (4.39.2)\n",
      "Requirement already satisfied: filelock in c:\\users\\jiaxing yan\\.conda\\envs\\gpuenv\\lib\\site-packages (from transformers) (3.9.0)\n",
      "Requirement already satisfied: huggingface-hub<1.0,>=0.19.3 in c:\\users\\jiaxing yan\\.conda\\envs\\gpuenv\\lib\\site-packages (from transformers) (0.22.2)\n",
      "Requirement already satisfied: numpy>=1.17 in c:\\users\\jiaxing yan\\.conda\\envs\\gpuenv\\lib\\site-packages (from transformers) (1.26.4)\n",
      "Requirement already satisfied: packaging>=20.0 in c:\\users\\jiaxing yan\\.conda\\envs\\gpuenv\\lib\\site-packages (from transformers) (23.1)\n",
      "Requirement already satisfied: pyyaml>=5.1 in c:\\users\\jiaxing yan\\.conda\\envs\\gpuenv\\lib\\site-packages (from transformers) (6.0.1)\n",
      "Requirement already satisfied: regex!=2019.12.17 in c:\\users\\jiaxing yan\\.conda\\envs\\gpuenv\\lib\\site-packages (from transformers) (2023.12.25)\n",
      "Requirement already satisfied: requests in c:\\users\\jiaxing yan\\.conda\\envs\\gpuenv\\lib\\site-packages (from transformers) (2.31.0)\n",
      "Requirement already satisfied: tokenizers<0.19,>=0.14 in c:\\users\\jiaxing yan\\.conda\\envs\\gpuenv\\lib\\site-packages (from transformers) (0.15.2)\n",
      "Requirement already satisfied: safetensors>=0.4.1 in c:\\users\\jiaxing yan\\.conda\\envs\\gpuenv\\lib\\site-packages (from transformers) (0.4.2)\n",
      "Requirement already satisfied: tqdm>=4.27 in c:\\users\\jiaxing yan\\.conda\\envs\\gpuenv\\lib\\site-packages (from transformers) (4.66.2)\n",
      "Requirement already satisfied: fsspec>=2023.5.0 in c:\\users\\jiaxing yan\\.conda\\envs\\gpuenv\\lib\\site-packages (from huggingface-hub<1.0,>=0.19.3->transformers) (2024.3.1)\n",
      "Requirement already satisfied: typing-extensions>=3.7.4.3 in c:\\users\\jiaxing yan\\.conda\\envs\\gpuenv\\lib\\site-packages (from huggingface-hub<1.0,>=0.19.3->transformers) (4.9.0)\n",
      "Requirement already satisfied: colorama in c:\\users\\jiaxing yan\\.conda\\envs\\gpuenv\\lib\\site-packages (from tqdm>=4.27->transformers) (0.4.6)\n",
      "Requirement already satisfied: charset-normalizer<4,>=2 in c:\\users\\jiaxing yan\\.conda\\envs\\gpuenv\\lib\\site-packages (from requests->transformers) (2.0.4)\n",
      "Requirement already satisfied: idna<4,>=2.5 in c:\\users\\jiaxing yan\\.conda\\envs\\gpuenv\\lib\\site-packages (from requests->transformers) (3.4)\n",
      "Requirement already satisfied: urllib3<3,>=1.21.1 in c:\\users\\jiaxing yan\\.conda\\envs\\gpuenv\\lib\\site-packages (from requests->transformers) (2.1.0)\n",
      "Requirement already satisfied: certifi>=2017.4.17 in c:\\users\\jiaxing yan\\.conda\\envs\\gpuenv\\lib\\site-packages (from requests->transformers) (2024.2.2)\n"
     ]
    }
   ],
   "source": [
    "!pip install transformers\n",
    "\n",
    "from transformers import BertTokenizer\n",
    "from torch.utils.data import TensorDataset"
   ]
  },
  {
   "cell_type": "code",
   "execution_count": 23,
   "id": "821889cf-a680-442d-a03e-cdcc8a3310e1",
   "metadata": {},
   "outputs": [],
   "source": [
    "#load tokenizer\n",
    "tokenizer = BertTokenizer.from_pretrained('bert-base-uncased',\n",
    "                                         do_lower_case = True)"
   ]
  },
  {
   "cell_type": "code",
   "execution_count": 24,
   "id": "c33b03c3-bf33-4cc1-b66d-44fbfc9c72e5",
   "metadata": {},
   "outputs": [
    {
     "name": "stderr",
     "output_type": "stream",
     "text": [
      "Truncation was not explicitly activated but `max_length` is provided a specific value, please use `truncation=True` to explicitly truncate examples to max length. Defaulting to 'longest_first' truncation strategy. If you encode pairs of sequences (GLUE-style) with the tokenizer you can select this strategy more precisely by providing a specific strategy to `truncation`.\n",
      "C:\\Users\\Jiaxing Yan\\.conda\\envs\\gpuenv\\Lib\\site-packages\\transformers\\tokenization_utils_base.py:2688: FutureWarning: The `pad_to_max_length` argument is deprecated and will be removed in a future version, use `padding=True` or `padding='longest'` to pad to the longest sequence in the batch, or use `padding='max_length'` to pad to a max length. In this case, you can give a specific length with `max_length` (e.g. `max_length=45`) or leave max_length to None to pad to the maximal input size of the model (e.g. 512 for Bert).\n",
      "  warnings.warn(\n"
     ]
    }
   ],
   "source": [
    "#tokenize train set\n",
    "encoded_data_train = tokenizer.batch_encode_plus(df[df.data_type == 'train'].processed_text.values,\n",
    "                                                add_special_tokens = True,\n",
    "                                                return_attention_mask = True,\n",
    "                                                pad_to_max_length = True,\n",
    "                                                max_length = 290,\n",
    "                                                return_tensors = 'pt')"
   ]
  },
  {
   "cell_type": "code",
   "execution_count": 25,
   "id": "839bbb8d-a6ea-4653-ab7b-1f81dea61c5d",
   "metadata": {},
   "outputs": [],
   "source": [
    "encoded_data_val = tokenizer.batch_encode_plus(df[df.data_type == 'val'].processed_text.values,\n",
    "                                                #add_special_tokens = True,\n",
    "                                                return_attention_mask = True,\n",
    "                                                pad_to_max_length = True,\n",
    "                                                max_length = 150,\n",
    "                                                return_tensors = 'pt')"
   ]
  },
  {
   "cell_type": "code",
   "execution_count": 26,
   "id": "2a190896-0e97-4f8c-9c0a-40b566a627c8",
   "metadata": {},
   "outputs": [
    {
     "data": {
      "text/plain": [
       "{'input_ids': tensor([[  101, 16360, 29045,  ...,     0,     0,     0],\n",
       "        [  101,  2874,  8368,  ...,     0,     0,     0],\n",
       "        [  101,  2253,  2162,  ...,     0,     0,     0],\n",
       "        ...,\n",
       "        [  101, 16216,  8180,  ...,     0,     0,     0],\n",
       "        [  101,  5969, 18465,  ...,     0,     0,     0],\n",
       "        [  101,  4190,  4183,  ...,     0,     0,     0]]), 'token_type_ids': tensor([[0, 0, 0,  ..., 0, 0, 0],\n",
       "        [0, 0, 0,  ..., 0, 0, 0],\n",
       "        [0, 0, 0,  ..., 0, 0, 0],\n",
       "        ...,\n",
       "        [0, 0, 0,  ..., 0, 0, 0],\n",
       "        [0, 0, 0,  ..., 0, 0, 0],\n",
       "        [0, 0, 0,  ..., 0, 0, 0]]), 'attention_mask': tensor([[1, 1, 1,  ..., 0, 0, 0],\n",
       "        [1, 1, 1,  ..., 0, 0, 0],\n",
       "        [1, 1, 1,  ..., 0, 0, 0],\n",
       "        ...,\n",
       "        [1, 1, 1,  ..., 0, 0, 0],\n",
       "        [1, 1, 1,  ..., 0, 0, 0],\n",
       "        [1, 1, 1,  ..., 0, 0, 0]])}"
      ]
     },
     "execution_count": 26,
     "metadata": {},
     "output_type": "execute_result"
    }
   ],
   "source": [
    "encoded_data_train"
   ]
  },
  {
   "cell_type": "code",
   "execution_count": 27,
   "id": "42529cfe-d90d-4650-8f68-47cf24b96385",
   "metadata": {},
   "outputs": [],
   "source": [
    "input_ids_train = encoded_data_train['input_ids']\n",
    "attention_masks_train = encoded_data_train['attention_mask']\n",
    "labels_train = torch.tensor(df[df.data_type == 'train'].label.values)"
   ]
  },
  {
   "cell_type": "code",
   "execution_count": 28,
   "id": "f63d1fca-7f7e-4d10-b874-603d61605020",
   "metadata": {},
   "outputs": [],
   "source": [
    "input_ids_val = encoded_data_val['input_ids']\n",
    "attention_masks_val = encoded_data_val['attention_mask']\n",
    "\n",
    "#convert data type to torch.tensor\n",
    "labels_val = torch.tensor(df[df.data_type == 'val'].label.values)"
   ]
  },
  {
   "cell_type": "code",
   "execution_count": 29,
   "id": "8a04e77d-ad33-4ee0-8799-15b748b06d27",
   "metadata": {},
   "outputs": [
    {
     "data": {
      "text/plain": [
       "tensor([[  101, 16360, 29045,  ...,     0,     0,     0],\n",
       "        [  101,  2874,  8368,  ...,     0,     0,     0],\n",
       "        [  101,  2253,  2162,  ...,     0,     0,     0],\n",
       "        ...,\n",
       "        [  101, 16216,  8180,  ...,     0,     0,     0],\n",
       "        [  101,  5969, 18465,  ...,     0,     0,     0],\n",
       "        [  101,  4190,  4183,  ...,     0,     0,     0]])"
      ]
     },
     "execution_count": 29,
     "metadata": {},
     "output_type": "execute_result"
    }
   ],
   "source": [
    "input_ids_train"
   ]
  },
  {
   "cell_type": "code",
   "execution_count": 30,
   "id": "ffcc421e-6787-4345-aac1-1f60d581a176",
   "metadata": {},
   "outputs": [
    {
     "data": {
      "text/plain": [
       "tensor([[1, 1, 1,  ..., 0, 0, 0],\n",
       "        [1, 1, 1,  ..., 0, 0, 0],\n",
       "        [1, 1, 1,  ..., 0, 0, 0],\n",
       "        ...,\n",
       "        [1, 1, 1,  ..., 0, 0, 0],\n",
       "        [1, 1, 1,  ..., 0, 0, 0],\n",
       "        [1, 1, 1,  ..., 0, 0, 0]])"
      ]
     },
     "execution_count": 30,
     "metadata": {},
     "output_type": "execute_result"
    }
   ],
   "source": [
    "attention_masks_train"
   ]
  },
  {
   "cell_type": "code",
   "execution_count": 31,
   "id": "d10b2325-2c56-43a3-ab56-5b772a670ab9",
   "metadata": {},
   "outputs": [
    {
     "data": {
      "text/plain": [
       "tensor([0, 1, 0,  ..., 2, 3, 1])"
      ]
     },
     "execution_count": 31,
     "metadata": {},
     "output_type": "execute_result"
    }
   ],
   "source": [
    "labels_train"
   ]
  },
  {
   "cell_type": "code",
   "execution_count": 32,
   "id": "25fa934e-2b96-404e-9245-8704b26df856",
   "metadata": {},
   "outputs": [],
   "source": [
    "dataset_train = TensorDataset(input_ids_train, \n",
    "                              attention_masks_train,\n",
    "                              labels_train)\n",
    "\n",
    "dataset_val = TensorDataset(input_ids_val, \n",
    "                             attention_masks_val, \n",
    "                             labels_val)"
   ]
  },
  {
   "cell_type": "code",
   "execution_count": 33,
   "id": "87ab1e01-655c-4425-a3c5-d7f345b79e3a",
   "metadata": {},
   "outputs": [
    {
     "name": "stdout",
     "output_type": "stream",
     "text": [
      "4250\n",
      "750\n"
     ]
    }
   ],
   "source": [
    "print(len(dataset_train))\n",
    "print(len(dataset_val))"
   ]
  },
  {
   "cell_type": "code",
   "execution_count": 34,
   "id": "e279bdb2-2ca5-4ef4-84f8-c84b20739b6d",
   "metadata": {},
   "outputs": [
    {
     "data": {
      "text/plain": [
       "<torch.utils.data.dataset.TensorDataset at 0x1b080e3aea0>"
      ]
     },
     "execution_count": 34,
     "metadata": {},
     "output_type": "execute_result"
    }
   ],
   "source": [
    "dataset_train"
   ]
  },
  {
   "cell_type": "code",
   "execution_count": 35,
   "id": "685b8840-f764-4eb8-8bc8-47077c3678c1",
   "metadata": {},
   "outputs": [
    {
     "data": {
      "text/plain": [
       "(tensor([[  101, 16360, 29045,  ...,     0,     0,     0],\n",
       "         [  101,  2874,  8368,  ...,     0,     0,     0],\n",
       "         [  101,  2253,  2162,  ...,     0,     0,     0],\n",
       "         ...,\n",
       "         [  101, 16216,  8180,  ...,     0,     0,     0],\n",
       "         [  101,  5969, 18465,  ...,     0,     0,     0],\n",
       "         [  101,  4190,  4183,  ...,     0,     0,     0]]),\n",
       " tensor([[1, 1, 1,  ..., 0, 0, 0],\n",
       "         [1, 1, 1,  ..., 0, 0, 0],\n",
       "         [1, 1, 1,  ..., 0, 0, 0],\n",
       "         ...,\n",
       "         [1, 1, 1,  ..., 0, 0, 0],\n",
       "         [1, 1, 1,  ..., 0, 0, 0],\n",
       "         [1, 1, 1,  ..., 0, 0, 0]]),\n",
       " tensor([0, 1, 0,  ..., 2, 3, 1]))"
      ]
     },
     "execution_count": 35,
     "metadata": {},
     "output_type": "execute_result"
    }
   ],
   "source": [
    "dataset_train.tensors"
   ]
  },
  {
   "cell_type": "code",
   "execution_count": 36,
   "id": "a1b07d29-a455-431c-bd83-03ea5e4a7ea4",
   "metadata": {},
   "outputs": [
    {
     "name": "stderr",
     "output_type": "stream",
     "text": [
      "Some weights of BertForSequenceClassification were not initialized from the model checkpoint at bert-base-uncased and are newly initialized: ['classifier.bias', 'classifier.weight']\n",
      "You should probably TRAIN this model on a down-stream task to be able to use it for predictions and inference.\n"
     ]
    }
   ],
   "source": [
    "from transformers import BertForSequenceClassification\n",
    "\n",
    "#load pre-trained BERT\n",
    "model = BertForSequenceClassification.from_pretrained('bert-base-uncased',\n",
    "                                                      num_labels = len(label_dict),\n",
    "                                                      output_attentions = False,\n",
    "                                                      output_hidden_states = False)"
   ]
  },
  {
   "cell_type": "code",
   "execution_count": 37,
   "id": "e51f4808-29d0-41c8-810d-73b63cab8e2e",
   "metadata": {},
   "outputs": [
    {
     "data": {
      "text/plain": [
       "BertConfig {\n",
       "  \"_name_or_path\": \"bert-base-uncased\",\n",
       "  \"architectures\": [\n",
       "    \"BertForMaskedLM\"\n",
       "  ],\n",
       "  \"attention_probs_dropout_prob\": 0.1,\n",
       "  \"classifier_dropout\": null,\n",
       "  \"gradient_checkpointing\": false,\n",
       "  \"hidden_act\": \"gelu\",\n",
       "  \"hidden_dropout_prob\": 0.1,\n",
       "  \"hidden_size\": 768,\n",
       "  \"id2label\": {\n",
       "    \"0\": \"LABEL_0\",\n",
       "    \"1\": \"LABEL_1\",\n",
       "    \"2\": \"LABEL_2\",\n",
       "    \"3\": \"LABEL_3\"\n",
       "  },\n",
       "  \"initializer_range\": 0.02,\n",
       "  \"intermediate_size\": 3072,\n",
       "  \"label2id\": {\n",
       "    \"LABEL_0\": 0,\n",
       "    \"LABEL_1\": 1,\n",
       "    \"LABEL_2\": 2,\n",
       "    \"LABEL_3\": 3\n",
       "  },\n",
       "  \"layer_norm_eps\": 1e-12,\n",
       "  \"max_position_embeddings\": 512,\n",
       "  \"model_type\": \"bert\",\n",
       "  \"num_attention_heads\": 12,\n",
       "  \"num_hidden_layers\": 12,\n",
       "  \"pad_token_id\": 0,\n",
       "  \"position_embedding_type\": \"absolute\",\n",
       "  \"transformers_version\": \"4.39.2\",\n",
       "  \"type_vocab_size\": 2,\n",
       "  \"use_cache\": true,\n",
       "  \"vocab_size\": 30522\n",
       "}"
      ]
     },
     "execution_count": 37,
     "metadata": {},
     "output_type": "execute_result"
    }
   ],
   "source": [
    "model.config"
   ]
  },
  {
   "cell_type": "code",
   "execution_count": 38,
   "id": "8c62cbe2-5bd5-417a-b082-b8ae19805648",
   "metadata": {},
   "outputs": [],
   "source": [
    "from torch.utils.data import DataLoader, RandomSampler, SequentialSampler\n",
    "\n",
    "batch_size = 4 #since we have limited resource\n",
    "\n",
    "#load train set\n",
    "dataloader_train = DataLoader(dataset_train,\n",
    "                              sampler = RandomSampler(dataset_train), batch_size = batch_size)\n",
    "\n",
    "#load val set\n",
    "dataloader_val = DataLoader(dataset_val,\n",
    "                              sampler = RandomSampler(dataset_val),batch_size = 32)"
   ]
  },
  {
   "cell_type": "code",
   "execution_count": 39,
   "id": "b3ccc8ee-d25c-4576-8d1a-30b27f1e43fd",
   "metadata": {},
   "outputs": [],
   "source": [
    "from transformers import AdamW, get_linear_schedule_with_warmup\n",
    "epochs = 10\n",
    "\n",
    "#load optimizer\n",
    "optimizer = torch.optim.AdamW(model.parameters(),\n",
    "                 lr = 1e-5,\n",
    "                 eps = 1e-8) #2e-5 > 5e-5"
   ]
  },
  {
   "cell_type": "code",
   "execution_count": 40,
   "id": "79afd4e2-1845-4e58-8683-699aeff3245a",
   "metadata": {},
   "outputs": [],
   "source": [
    "#load scheduler\n",
    "scheduler = get_linear_schedule_with_warmup(optimizer,\n",
    "                                           num_warmup_steps = 0,\n",
    "                                           num_training_steps = len(dataloader_train)*epochs)"
   ]
  },
  {
   "cell_type": "code",
   "execution_count": 41,
   "id": "54cce7fa-4063-43a3-a3c0-520f6e009fb0",
   "metadata": {},
   "outputs": [],
   "source": [
    "import numpy as np\n",
    "from sklearn.metrics import f1_score\n",
    "\n",
    "#f1 score\n",
    "def f1_score_func(preds, labels):\n",
    "    preds_flat = np.argmax(preds, axis=1).flatten()\n",
    "    labels_flat = labels.flatten()\n",
    "    return f1_score(labels_flat, preds_flat, average = 'weighted')"
   ]
  },
  {
   "cell_type": "code",
   "execution_count": 42,
   "id": "80e21ae0-ab33-4408-ad87-c12e149ac5c7",
   "metadata": {},
   "outputs": [],
   "source": [
    "#accuracy score\n",
    "def accuracy_per_class(preds, labels):\n",
    "    label_dict_inverse = {v: k for k, v in label_dict.items()}\n",
    "    \n",
    "    #make prediction\n",
    "    preds_flat = np.argmax(preds, axis=1).flatten()\n",
    "    labels_flat = labels.flatten()\n",
    "    \n",
    "    for label in np.unique(labels_flat):\n",
    "        y_preds = preds_flat[labels_flat==label]\n",
    "        y_true = labels_flat[labels_flat==label]\n",
    "        print(f'Class: {label_dict_inverse[label]}')\n",
    "        print(f'Accuracy:{len(y_preds[y_preds==label])}/{len(y_true)}\\n')"
   ]
  },
  {
   "cell_type": "code",
   "execution_count": 43,
   "id": "8df64524-5888-4d94-9a80-36a4d1e3e0dc",
   "metadata": {},
   "outputs": [],
   "source": [
    "def evaluate(dataloader_val):\n",
    "\n",
    "    #evaluation mode disables the dropout layer \n",
    "    model.eval()\n",
    "    \n",
    "    #tracking variables\n",
    "    loss_val_total = 0\n",
    "    predictions, true_vals = [], []\n",
    "    \n",
    "    for batch in tqdm(dataloader_val):\n",
    "        \n",
    "        #load into GPU\n",
    "        batch = tuple(b.to(device) for b in batch)\n",
    "        \n",
    "        #define inputs\n",
    "        inputs = {'input_ids':      batch[0],\n",
    "                  'attention_mask': batch[1],\n",
    "                  'labels':         batch[2]}\n",
    "\n",
    "        #compute logits\n",
    "        with torch.no_grad():        \n",
    "            outputs = model(**inputs)\n",
    "        \n",
    "        #compute loss\n",
    "        loss = outputs[0]\n",
    "        logits = outputs[1]\n",
    "        loss_val_total += loss.item()\n",
    "\n",
    "        #compute accuracy\n",
    "        logits = logits.detach().cpu().numpy()\n",
    "        label_ids = inputs['labels'].cpu().numpy()\n",
    "        predictions.append(logits)\n",
    "        true_vals.append(label_ids)\n",
    "    \n",
    "    #compute average loss\n",
    "    loss_val_avg = loss_val_total/len(dataloader_val) \n",
    "    \n",
    "    predictions = np.concatenate(predictions, axis=0)\n",
    "    true_vals = np.concatenate(true_vals, axis=0)\n",
    "            \n",
    "    return loss_val_avg, predictions, true_vals"
   ]
  },
  {
   "cell_type": "code",
   "execution_count": 44,
   "id": "1c67e50d-ce3c-4cfb-bf95-232ff0ae8296",
   "metadata": {},
   "outputs": [],
   "source": [
    "import random\n",
    "\n",
    "seed_val = 17\n",
    "random.seed(seed_val)\n",
    "np.random.seed(seed_val)\n",
    "torch.manual_seed(seed_val)\n",
    "torch.cuda.manual_seed_all(seed_val)"
   ]
  },
  {
   "cell_type": "code",
   "execution_count": 45,
   "id": "e288ae30-8e1a-4a76-b689-055bf5b0fe6f",
   "metadata": {},
   "outputs": [
    {
     "name": "stdout",
     "output_type": "stream",
     "text": [
      "cuda\n"
     ]
    }
   ],
   "source": [
    "device = torch.device('cuda' if torch.cuda.is_available() else 'cpu')\n",
    "model.to(device)\n",
    "print(device)"
   ]
  },
  {
   "cell_type": "code",
   "execution_count": 46,
   "id": "d3f332a1-6e6d-4435-b03c-e5f97cbd49bb",
   "metadata": {},
   "outputs": [
    {
     "name": "stdout",
     "output_type": "stream",
     "text": [
      "Requirement already satisfied: ipywidgets in c:\\users\\jiaxing yan\\.conda\\envs\\gpuenv\\lib\\site-packages (8.1.2)\n",
      "Requirement already satisfied: comm>=0.1.3 in c:\\users\\jiaxing yan\\.conda\\envs\\gpuenv\\lib\\site-packages (from ipywidgets) (0.2.1)\n",
      "Requirement already satisfied: ipython>=6.1.0 in c:\\users\\jiaxing yan\\.conda\\envs\\gpuenv\\lib\\site-packages (from ipywidgets) (8.20.0)\n",
      "Requirement already satisfied: traitlets>=4.3.1 in c:\\users\\jiaxing yan\\.conda\\envs\\gpuenv\\lib\\site-packages (from ipywidgets) (5.7.1)\n",
      "Requirement already satisfied: widgetsnbextension~=4.0.10 in c:\\users\\jiaxing yan\\.conda\\envs\\gpuenv\\lib\\site-packages (from ipywidgets) (4.0.10)\n",
      "Requirement already satisfied: jupyterlab-widgets~=3.0.10 in c:\\users\\jiaxing yan\\.conda\\envs\\gpuenv\\lib\\site-packages (from ipywidgets) (3.0.10)\n",
      "Requirement already satisfied: decorator in c:\\users\\jiaxing yan\\.conda\\envs\\gpuenv\\lib\\site-packages (from ipython>=6.1.0->ipywidgets) (5.1.1)\n",
      "Requirement already satisfied: jedi>=0.16 in c:\\users\\jiaxing yan\\.conda\\envs\\gpuenv\\lib\\site-packages (from ipython>=6.1.0->ipywidgets) (0.18.1)\n",
      "Requirement already satisfied: matplotlib-inline in c:\\users\\jiaxing yan\\.conda\\envs\\gpuenv\\lib\\site-packages (from ipython>=6.1.0->ipywidgets) (0.1.6)\n",
      "Requirement already satisfied: prompt-toolkit<3.1.0,>=3.0.41 in c:\\users\\jiaxing yan\\.conda\\envs\\gpuenv\\lib\\site-packages (from ipython>=6.1.0->ipywidgets) (3.0.43)\n",
      "Requirement already satisfied: pygments>=2.4.0 in c:\\users\\jiaxing yan\\.conda\\envs\\gpuenv\\lib\\site-packages (from ipython>=6.1.0->ipywidgets) (2.15.1)\n",
      "Requirement already satisfied: stack-data in c:\\users\\jiaxing yan\\.conda\\envs\\gpuenv\\lib\\site-packages (from ipython>=6.1.0->ipywidgets) (0.2.0)\n",
      "Requirement already satisfied: colorama in c:\\users\\jiaxing yan\\.conda\\envs\\gpuenv\\lib\\site-packages (from ipython>=6.1.0->ipywidgets) (0.4.6)\n",
      "Requirement already satisfied: parso<0.9.0,>=0.8.0 in c:\\users\\jiaxing yan\\.conda\\envs\\gpuenv\\lib\\site-packages (from jedi>=0.16->ipython>=6.1.0->ipywidgets) (0.8.3)\n",
      "Requirement already satisfied: wcwidth in c:\\users\\jiaxing yan\\.conda\\envs\\gpuenv\\lib\\site-packages (from prompt-toolkit<3.1.0,>=3.0.41->ipython>=6.1.0->ipywidgets) (0.2.5)\n",
      "Requirement already satisfied: executing in c:\\users\\jiaxing yan\\.conda\\envs\\gpuenv\\lib\\site-packages (from stack-data->ipython>=6.1.0->ipywidgets) (0.8.3)\n",
      "Requirement already satisfied: asttokens in c:\\users\\jiaxing yan\\.conda\\envs\\gpuenv\\lib\\site-packages (from stack-data->ipython>=6.1.0->ipywidgets) (2.0.5)\n",
      "Requirement already satisfied: pure-eval in c:\\users\\jiaxing yan\\.conda\\envs\\gpuenv\\lib\\site-packages (from stack-data->ipython>=6.1.0->ipywidgets) (0.2.2)\n",
      "Requirement already satisfied: six in c:\\users\\jiaxing yan\\.conda\\envs\\gpuenv\\lib\\site-packages (from asttokens->stack-data->ipython>=6.1.0->ipywidgets) (1.16.0)\n"
     ]
    },
    {
     "data": {
      "application/vnd.jupyter.widget-view+json": {
       "model_id": "ae84187b4fbd4b008e0516d9272d68c1",
       "version_major": 2,
       "version_minor": 0
      },
      "text/plain": [
       "  0%|          | 0/10 [00:00<?, ?it/s]"
      ]
     },
     "metadata": {},
     "output_type": "display_data"
    },
    {
     "data": {
      "application/vnd.jupyter.widget-view+json": {
       "model_id": "",
       "version_major": 2,
       "version_minor": 0
      },
      "text/plain": [
       "Epoch 1:   0%|          | 0/1063 [00:00<?, ?it/s]"
      ]
     },
     "metadata": {},
     "output_type": "display_data"
    },
    {
     "name": "stdout",
     "output_type": "stream",
     "text": [
      "\n",
      "Epoch {epoch}\n",
      "Training loss: 1.0426408740869695\n"
     ]
    },
    {
     "data": {
      "application/vnd.jupyter.widget-view+json": {
       "model_id": "76a531b0405749558242021220842665",
       "version_major": 2,
       "version_minor": 0
      },
      "text/plain": [
       "  0%|          | 0/24 [00:00<?, ?it/s]"
      ]
     },
     "metadata": {},
     "output_type": "display_data"
    },
    {
     "name": "stdout",
     "output_type": "stream",
     "text": [
      "Validation loss: 0.9033471047878265\n",
      "F1 Score (weighted): 0.6298558828572947\n"
     ]
    },
    {
     "data": {
      "application/vnd.jupyter.widget-view+json": {
       "model_id": "",
       "version_major": 2,
       "version_minor": 0
      },
      "text/plain": [
       "Epoch 2:   0%|          | 0/1063 [00:00<?, ?it/s]"
      ]
     },
     "metadata": {},
     "output_type": "display_data"
    },
    {
     "name": "stdout",
     "output_type": "stream",
     "text": [
      "\n",
      "Epoch {epoch}\n",
      "Training loss: 0.731980663830255\n"
     ]
    },
    {
     "data": {
      "application/vnd.jupyter.widget-view+json": {
       "model_id": "2890d34f42e14630957298b3557bbafb",
       "version_major": 2,
       "version_minor": 0
      },
      "text/plain": [
       "  0%|          | 0/24 [00:00<?, ?it/s]"
      ]
     },
     "metadata": {},
     "output_type": "display_data"
    },
    {
     "name": "stdout",
     "output_type": "stream",
     "text": [
      "Validation loss: 0.9171478810409704\n",
      "F1 Score (weighted): 0.6568091339193395\n"
     ]
    },
    {
     "data": {
      "application/vnd.jupyter.widget-view+json": {
       "model_id": "",
       "version_major": 2,
       "version_minor": 0
      },
      "text/plain": [
       "Epoch 3:   0%|          | 0/1063 [00:00<?, ?it/s]"
      ]
     },
     "metadata": {},
     "output_type": "display_data"
    },
    {
     "name": "stdout",
     "output_type": "stream",
     "text": [
      "\n",
      "Epoch {epoch}\n",
      "Training loss: 0.5658689024100327\n"
     ]
    },
    {
     "data": {
      "application/vnd.jupyter.widget-view+json": {
       "model_id": "650639cd432e4fd29fb0a59296cd8135",
       "version_major": 2,
       "version_minor": 0
      },
      "text/plain": [
       "  0%|          | 0/24 [00:00<?, ?it/s]"
      ]
     },
     "metadata": {},
     "output_type": "display_data"
    },
    {
     "name": "stdout",
     "output_type": "stream",
     "text": [
      "Validation loss: 1.09618033717076\n",
      "F1 Score (weighted): 0.6748792646515723\n"
     ]
    },
    {
     "data": {
      "application/vnd.jupyter.widget-view+json": {
       "model_id": "",
       "version_major": 2,
       "version_minor": 0
      },
      "text/plain": [
       "Epoch 4:   0%|          | 0/1063 [00:00<?, ?it/s]"
      ]
     },
     "metadata": {},
     "output_type": "display_data"
    },
    {
     "name": "stdout",
     "output_type": "stream",
     "text": [
      "\n",
      "Epoch {epoch}\n",
      "Training loss: 0.422063780106124\n"
     ]
    },
    {
     "data": {
      "application/vnd.jupyter.widget-view+json": {
       "model_id": "d57df80b807343a9b4d5167e004e671d",
       "version_major": 2,
       "version_minor": 0
      },
      "text/plain": [
       "  0%|          | 0/24 [00:00<?, ?it/s]"
      ]
     },
     "metadata": {},
     "output_type": "display_data"
    },
    {
     "name": "stdout",
     "output_type": "stream",
     "text": [
      "Validation loss: 1.5770773490269978\n",
      "F1 Score (weighted): 0.6576257945036867\n"
     ]
    },
    {
     "data": {
      "application/vnd.jupyter.widget-view+json": {
       "model_id": "",
       "version_major": 2,
       "version_minor": 0
      },
      "text/plain": [
       "Epoch 5:   0%|          | 0/1063 [00:00<?, ?it/s]"
      ]
     },
     "metadata": {},
     "output_type": "display_data"
    },
    {
     "name": "stdout",
     "output_type": "stream",
     "text": [
      "\n",
      "Epoch {epoch}\n",
      "Training loss: 0.31116786235057453\n"
     ]
    },
    {
     "data": {
      "application/vnd.jupyter.widget-view+json": {
       "model_id": "d31df6ad31f34275bc8be21e8241a782",
       "version_major": 2,
       "version_minor": 0
      },
      "text/plain": [
       "  0%|          | 0/24 [00:00<?, ?it/s]"
      ]
     },
     "metadata": {},
     "output_type": "display_data"
    },
    {
     "name": "stdout",
     "output_type": "stream",
     "text": [
      "Validation loss: 1.980877734720707\n",
      "F1 Score (weighted): 0.6487233685576419\n"
     ]
    },
    {
     "data": {
      "application/vnd.jupyter.widget-view+json": {
       "model_id": "",
       "version_major": 2,
       "version_minor": 0
      },
      "text/plain": [
       "Epoch 6:   0%|          | 0/1063 [00:00<?, ?it/s]"
      ]
     },
     "metadata": {},
     "output_type": "display_data"
    },
    {
     "name": "stdout",
     "output_type": "stream",
     "text": [
      "\n",
      "Epoch {epoch}\n",
      "Training loss: 0.24185089160305354\n"
     ]
    },
    {
     "data": {
      "application/vnd.jupyter.widget-view+json": {
       "model_id": "d3dfa015eb584f80aeef2c48e11bf12c",
       "version_major": 2,
       "version_minor": 0
      },
      "text/plain": [
       "  0%|          | 0/24 [00:00<?, ?it/s]"
      ]
     },
     "metadata": {},
     "output_type": "display_data"
    },
    {
     "name": "stdout",
     "output_type": "stream",
     "text": [
      "Validation loss: 2.052207864820957\n",
      "F1 Score (weighted): 0.6595700253889045\n"
     ]
    },
    {
     "data": {
      "application/vnd.jupyter.widget-view+json": {
       "model_id": "",
       "version_major": 2,
       "version_minor": 0
      },
      "text/plain": [
       "Epoch 7:   0%|          | 0/1063 [00:00<?, ?it/s]"
      ]
     },
     "metadata": {},
     "output_type": "display_data"
    },
    {
     "name": "stdout",
     "output_type": "stream",
     "text": [
      "\n",
      "Epoch {epoch}\n",
      "Training loss: 0.18159906738077405\n"
     ]
    },
    {
     "data": {
      "application/vnd.jupyter.widget-view+json": {
       "model_id": "bf3885e041324efba66befd191925b91",
       "version_major": 2,
       "version_minor": 0
      },
      "text/plain": [
       "  0%|          | 0/24 [00:00<?, ?it/s]"
      ]
     },
     "metadata": {},
     "output_type": "display_data"
    },
    {
     "name": "stdout",
     "output_type": "stream",
     "text": [
      "Validation loss: 2.146618594725927\n",
      "F1 Score (weighted): 0.6586593985354707\n"
     ]
    },
    {
     "data": {
      "application/vnd.jupyter.widget-view+json": {
       "model_id": "",
       "version_major": 2,
       "version_minor": 0
      },
      "text/plain": [
       "Epoch 8:   0%|          | 0/1063 [00:00<?, ?it/s]"
      ]
     },
     "metadata": {},
     "output_type": "display_data"
    },
    {
     "name": "stdout",
     "output_type": "stream",
     "text": [
      "\n",
      "Epoch {epoch}\n",
      "Training loss: 0.14740118937583194\n"
     ]
    },
    {
     "data": {
      "application/vnd.jupyter.widget-view+json": {
       "model_id": "6f8cdae822664d858063bef6d8818e6d",
       "version_major": 2,
       "version_minor": 0
      },
      "text/plain": [
       "  0%|          | 0/24 [00:00<?, ?it/s]"
      ]
     },
     "metadata": {},
     "output_type": "display_data"
    },
    {
     "name": "stdout",
     "output_type": "stream",
     "text": [
      "Validation loss: 2.228815217812856\n",
      "F1 Score (weighted): 0.6594323693511053\n"
     ]
    },
    {
     "data": {
      "application/vnd.jupyter.widget-view+json": {
       "model_id": "",
       "version_major": 2,
       "version_minor": 0
      },
      "text/plain": [
       "Epoch 9:   0%|          | 0/1063 [00:00<?, ?it/s]"
      ]
     },
     "metadata": {},
     "output_type": "display_data"
    },
    {
     "name": "stdout",
     "output_type": "stream",
     "text": [
      "\n",
      "Epoch {epoch}\n",
      "Training loss: 0.11581027844523979\n"
     ]
    },
    {
     "data": {
      "application/vnd.jupyter.widget-view+json": {
       "model_id": "161f05ae9ead46f49c4fe5bc01b8bda9",
       "version_major": 2,
       "version_minor": 0
      },
      "text/plain": [
       "  0%|          | 0/24 [00:00<?, ?it/s]"
      ]
     },
     "metadata": {},
     "output_type": "display_data"
    },
    {
     "name": "stdout",
     "output_type": "stream",
     "text": [
      "Validation loss: 2.3969001223643622\n",
      "F1 Score (weighted): 0.6517747222130758\n"
     ]
    },
    {
     "data": {
      "application/vnd.jupyter.widget-view+json": {
       "model_id": "",
       "version_major": 2,
       "version_minor": 0
      },
      "text/plain": [
       "Epoch 10:   0%|          | 0/1063 [00:00<?, ?it/s]"
      ]
     },
     "metadata": {},
     "output_type": "display_data"
    },
    {
     "name": "stdout",
     "output_type": "stream",
     "text": [
      "\n",
      "Epoch {epoch}\n",
      "Training loss: 0.10239114528814576\n"
     ]
    },
    {
     "data": {
      "application/vnd.jupyter.widget-view+json": {
       "model_id": "af015441220940e48be1b24d5c682a28",
       "version_major": 2,
       "version_minor": 0
      },
      "text/plain": [
       "  0%|          | 0/24 [00:00<?, ?it/s]"
      ]
     },
     "metadata": {},
     "output_type": "display_data"
    },
    {
     "name": "stdout",
     "output_type": "stream",
     "text": [
      "Validation loss: 2.407915567358335\n",
      "F1 Score (weighted): 0.6593710009017631\n"
     ]
    }
   ],
   "source": [
    "!pip install ipywidgets\n",
    "for epoch in tqdm(range(1, epochs+1)):\n",
    "\n",
    "    #set model in train mode\n",
    "    model.train()\n",
    "\n",
    "    #tracking variable\n",
    "    loss_train_total = 0\n",
    "    \n",
    "    #set up progress bar\n",
    "    progress_bar = tqdm(dataloader_train, \n",
    "                        desc='Epoch {:1d}'.format(epoch), \n",
    "                        leave=False, \n",
    "                        disable=False)\n",
    "    \n",
    "    for batch in progress_bar:\n",
    "        #set gradient to 0\n",
    "        model.zero_grad()\n",
    "\n",
    "        #load into GPU\n",
    "        batch = tuple(b.to(device) for b in batch)\n",
    "\n",
    "        #define inputs\n",
    "        inputs = {'input_ids': batch[0],\n",
    "                  'attention_mask': batch[1],\n",
    "                  'labels': batch[2]}\n",
    "        \n",
    "        outputs = model(**inputs)\n",
    "        loss = outputs[0] #output.loss\n",
    "        loss_train_total +=loss.item()\n",
    "\n",
    "        #backward pass to get gradients\n",
    "        loss.backward()\n",
    "        \n",
    "        #clip the norm of the gradients to 1.0 to prevent exploding gradients\n",
    "        torch.nn.utils.clip_grad_norm_(model.parameters(), 1.0)\n",
    "        \n",
    "        #update optimizer\n",
    "        optimizer.step()\n",
    "\n",
    "        #update scheduler\n",
    "        scheduler.step()\n",
    "        \n",
    "        progress_bar.set_postfix({'training_loss': '{:.3f}'.format(loss.item()/len(batch))})     \n",
    "    \n",
    "    tqdm.write('\\nEpoch {epoch}')\n",
    "    \n",
    "    #print training result\n",
    "    loss_train_avg = loss_train_total/len(dataloader_train)\n",
    "    tqdm.write(f'Training loss: {loss_train_avg}')\n",
    "    \n",
    "    #evaluate\n",
    "    val_loss, predictions, true_vals = evaluate(dataloader_val)\n",
    "    #f1 score\n",
    "    val_f1 = f1_score_func(predictions, true_vals)\n",
    "    tqdm.write(f'Validation loss: {val_loss}')\n",
    "    tqdm.write(f'F1 Score (weighted): {val_f1}')"
   ]
  },
  {
   "cell_type": "code",
   "execution_count": 47,
   "id": "9f2641af-0ae3-4ac8-8808-1d9516144345",
   "metadata": {},
   "outputs": [
    {
     "data": {
      "text/plain": [
       "tensor(0.0369, device='cuda:0', grad_fn=<NllLossBackward0>)"
      ]
     },
     "execution_count": 47,
     "metadata": {},
     "output_type": "execute_result"
    }
   ],
   "source": [
    "outputs.loss"
   ]
  },
  {
   "cell_type": "code",
   "execution_count": 48,
   "id": "c0f47898-b3fc-4e98-b6c7-6796aa4c65eb",
   "metadata": {},
   "outputs": [
    {
     "data": {
      "text/plain": [
       "tensor([[ 7.0726, -2.0789, -2.3349, -2.3007],\n",
       "        [-3.4426,  1.5715,  4.1578, -3.5740]], device='cuda:0',\n",
       "       grad_fn=<AddmmBackward0>)"
      ]
     },
     "execution_count": 48,
     "metadata": {},
     "output_type": "execute_result"
    }
   ],
   "source": [
    "outputs.logits"
   ]
  },
  {
   "cell_type": "code",
   "execution_count": 49,
   "id": "ba1250ca-1ff6-4799-87d9-a61f1542e664",
   "metadata": {},
   "outputs": [],
   "source": [
    "model.to(device)\n",
    "pass"
   ]
  },
  {
   "cell_type": "code",
   "execution_count": 50,
   "id": "aed94f04-9828-43c0-9c63-35db2de156b2",
   "metadata": {},
   "outputs": [
    {
     "data": {
      "application/vnd.jupyter.widget-view+json": {
       "model_id": "af72e1041d2e44fbae30ceb045526e6e",
       "version_major": 2,
       "version_minor": 0
      },
      "text/plain": [
       "  0%|          | 0/24 [00:00<?, ?it/s]"
      ]
     },
     "metadata": {},
     "output_type": "display_data"
    }
   ],
   "source": [
    "_, predictions, true_vals = evaluate(dataloader_val)"
   ]
  },
  {
   "cell_type": "code",
   "execution_count": 51,
   "id": "1be03b02-43a9-4e2a-9d10-acfdbfe47989",
   "metadata": {},
   "outputs": [
    {
     "name": "stdout",
     "output_type": "stream",
     "text": [
      "Class: Positive\n",
      "Accuracy:74/129\n",
      "\n",
      "Class: Irrelevant\n",
      "Accuracy:126/190\n",
      "\n",
      "Class: Negative\n",
      "Accuracy:139/217\n",
      "\n",
      "Class: Neutral\n",
      "Accuracy:156/214\n",
      "\n"
     ]
    }
   ],
   "source": [
    "accuracy_per_class(predictions, true_vals)"
   ]
  },
  {
   "cell_type": "code",
   "execution_count": 55,
   "id": "762b9973-e269-46a8-9a5c-b7572aacaed0",
   "metadata": {},
   "outputs": [],
   "source": [
    "model.save_pretrained(\"./saved_model\")"
   ]
  },
  {
   "cell_type": "code",
   "execution_count": 95,
   "id": "8ba988d5-a45d-4251-b27e-23f2ac83376c",
   "metadata": {},
   "outputs": [
    {
     "name": "stderr",
     "output_type": "stream",
     "text": [
      "100%|██████████| 15299/15299 [09:58<00:00, 25.55it/s]"
     ]
    },
    {
     "name": "stdout",
     "output_type": "stream",
     "text": [
      "Sentiment Distribution:\n",
      "predicted_sentiment\n",
      "LABEL_3    31.536953\n",
      "LABEL_2    28.294726\n",
      "LABEL_1    23.578257\n",
      "LABEL_0    16.590064\n",
      "Name: count, dtype: float64\n"
     ]
    },
    {
     "name": "stderr",
     "output_type": "stream",
     "text": [
      "\n"
     ]
    }
   ],
   "source": [
    "import pandas as pd\n",
    "from transformers import AutoModelForSequenceClassification, AutoTokenizer, pipeline\n",
    "from tqdm import tqdm \n",
    "import torch\n",
    "\n",
    "# Load dataset\n",
    "dataset = pd.read_csv('uk_ru_2023_en_text_random_labeled_dataset_Labelled.csv', low_memory=False)\n",
    "dataset = dataset[dataset.sentiment == 'nocode']\n",
    "dataset['processed_text'] = dataset['processed_text'].astype(str)\n",
    "\n",
    "# Load model and tokenizer\n",
    "model_path = \"./saved_model\" \n",
    "model = AutoModelForSequenceClassification.from_pretrained(model_path)\n",
    "\n",
    "# Create sentiment analysis pipeline\n",
    "pipe = pipeline('sentiment-analysis', model=model, tokenizer=tokenizer, \n",
    "                device=torch.device('cuda' if torch.cuda.is_available() else 'cpu')) \n",
    "\n",
    "# Define batching parameters\n",
    "batch_size = 32 # Adjust this based on your GPU memory\n",
    "\n",
    "# Define a function to process a batch of texts\n",
    "def process_batch(texts):\n",
    "    results = pipe(texts, batch_size=batch_size)  # Process in batches\n",
    "    return [result['label'] for result in results]\n",
    "\n",
    "# Apply sentiment classification with batching\n",
    "all_predicted_sentiments = []\n",
    "for i in tqdm(range(0, len(dataset), batch_size)):\n",
    "    batch = dataset['processed_text'].iloc[i: i+batch_size].tolist()  # Convert to a list of strings\n",
    "    batch_sentiments = process_batch(batch)\n",
    "    all_predicted_sentiments.extend(batch_sentiments)\n",
    "\n",
    "dataset['predicted_sentiment'] = all_predicted_sentiments\n",
    "\n",
    "# Calculate sentiment distribution\n",
    "sentiment_counts = dataset['predicted_sentiment'].value_counts()\n",
    "total_count = len(dataset)\n",
    "sentiment_percentages = (sentiment_counts / total_count) * 100\n",
    "\n",
    "print(\"Sentiment Distribution:\")\n",
    "print(sentiment_percentages)"
   ]
  },
  {
   "cell_type": "code",
   "execution_count": null,
   "id": "1a4472cc-001f-45b6-9c28-85de0e987186",
   "metadata": {},
   "outputs": [],
   "source": []
  }
 ],
 "metadata": {
  "kernelspec": {
   "display_name": "cuda-gpt",
   "language": "python",
   "name": "cuda"
  },
  "language_info": {
   "codemirror_mode": {
    "name": "ipython",
    "version": 3
   },
   "file_extension": ".py",
   "mimetype": "text/x-python",
   "name": "python",
   "nbconvert_exporter": "python",
   "pygments_lexer": "ipython3",
   "version": "3.12.1"
  }
 },
 "nbformat": 4,
 "nbformat_minor": 5
}
